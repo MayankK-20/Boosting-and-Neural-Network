{
 "cells": [
  {
   "cell_type": "code",
   "execution_count": 36,
   "id": "d9b79459",
   "metadata": {},
   "outputs": [],
   "source": [
    "import numpy as np"
   ]
  },
  {
   "cell_type": "code",
   "execution_count": null,
   "id": "9475c96b",
   "metadata": {},
   "outputs": [
    {
     "name": "stdout",
     "output_type": "stream",
     "text": [
      "X0=[[-0.50328585 -1.1382643 ]\n",
      " [-0.35231146  0.52302986]\n",
      " [-1.23415337 -1.23413696]\n",
      " [ 0.57921282 -0.23256527]\n",
      " [-1.46947439 -0.45743996]\n",
      " [-1.46341769 -1.46572975]\n",
      " [-0.75803773 -2.91328024]\n",
      " [-2.72491783 -1.56228753]\n",
      " [-2.01283112 -0.68575267]\n",
      " [-1.90802408 -2.4123037 ]]\n",
      "y0=[0. 0. 0. 0. 0. 0. 0. 0. 0. 0.]\n",
      "X1=[[ 2.46564877  0.7742237 ]\n",
      " [ 1.0675282  -0.42474819]\n",
      " [ 0.45561728  1.11092259]\n",
      " [-0.15099358  1.37569802]\n",
      " [ 0.39936131  0.70830625]\n",
      " [ 0.39829339  2.85227818]\n",
      " [ 0.98650278 -0.05771093]\n",
      " [ 1.82254491 -0.22084365]\n",
      " [ 1.2088636  -0.95967012]\n",
      " [-0.32818605  1.19686124]]\n",
      "y1=[1. 1. 1. 1. 1. 1. 1. 1. 1. 1.]\n",
      "\n"
     ]
    }
   ],
   "source": [
    "num_samples = 10\n",
    "mean0 = np.array([-1, -1])\n",
    "mean1 = np.array([1, 1])\n",
    "cov = np.eye(2)          # 2x2 Identity matrix\n",
    "\n",
    "X0 = np.random.multivariate_normal(mean0, cov, num_samples)\n",
    "X1 = np.random.multivariate_normal(mean1, cov, num_samples)\n",
    "y0 = np.zeros(num_samples)\n",
    "y1 = np.ones(num_samples)\n",
    "\n",
    "print(f'X0={X0}\\ny0={y0}\\nX1={X1}\\ny1={y1}\\n')"
   ]
  },
  {
   "cell_type": "code",
   "execution_count": 38,
   "id": "a5960fe3",
   "metadata": {},
   "outputs": [
    {
     "name": "stdout",
     "output_type": "stream",
     "text": [
      "x_train= [[-0.50328585 -1.1382643 ]\n",
      " [-0.35231146  0.52302986]\n",
      " [-1.23415337 -1.23413696]\n",
      " [ 0.57921282 -0.23256527]\n",
      " [-1.46947439 -0.45743996]\n",
      " [ 2.46564877  0.7742237 ]\n",
      " [ 1.0675282  -0.42474819]\n",
      " [ 0.45561728  1.11092259]\n",
      " [-0.15099358  1.37569802]\n",
      " [ 0.39936131  0.70830625]]\n",
      "y_train= [0. 0. 0. 0. 0. 1. 1. 1. 1. 1.]\n",
      "x_test= [[-1.46341769 -1.46572975]\n",
      " [-0.75803773 -2.91328024]\n",
      " [-2.72491783 -1.56228753]\n",
      " [-2.01283112 -0.68575267]\n",
      " [-1.90802408 -2.4123037 ]\n",
      " [ 0.39829339  2.85227818]\n",
      " [ 0.98650278 -0.05771093]\n",
      " [ 1.82254491 -0.22084365]\n",
      " [ 1.2088636  -0.95967012]\n",
      " [-0.32818605  1.19686124]]\n",
      "y_test= [0. 0. 0. 0. 0. 1. 1. 1. 1. 1.]\n"
     ]
    }
   ],
   "source": [
    "#getting the train and test set\n",
    "x_train = np.vstack((X0[:5], X1[:5]))\n",
    "y_train = np.hstack((y0[:5], y1[:5]))\n",
    "x_test = np.vstack((X0[5:], X1[5:]))\n",
    "y_test = np.hstack((y0[5:], y1[5:]))\n",
    "print(\"x_train=\", x_train)\n",
    "print(\"y_train=\", y_train)\n",
    "print(\"x_test=\", x_test)\n",
    "print(\"y_test=\", y_test)"
   ]
  },
  {
   "cell_type": "code",
   "execution_count": 39,
   "id": "915cdc51",
   "metadata": {},
   "outputs": [
    {
     "name": "stdout",
     "output_type": "stream",
     "text": [
      "w1 [0.73846658]\n",
      "w2 [0.17136828]\n",
      "w3 [-0.11564828]\n"
     ]
    }
   ],
   "source": [
    "# Initialize parameters randomly\n",
    "w1 = np.random.randn(1)\n",
    "w2 = np.random.randn(1)\n",
    "w3 = np.random.randn(1)\n",
    "print(\"w1\", w1)\n",
    "print(\"w2\", w2)\n",
    "print(\"w3\", w3)"
   ]
  },
  {
   "cell_type": "code",
   "execution_count": null,
   "id": "9dcfdb7d",
   "metadata": {},
   "outputs": [
    {
     "name": "stdout",
     "output_type": "stream",
     "text": [
      "Test MSE is  [0.02607567]\n"
     ]
    }
   ],
   "source": [
    "# Sigmoid activation function\n",
    "def sigmoid(x):\n",
    "    return 1 / (1 + np.exp(-x))\n",
    "\n",
    "\n",
    "lr = 0.01\n",
    "\n",
    "for _ in range(200):\n",
    "    for i in range(0,10):\n",
    "        x1, x2=x_train[i]\n",
    "        # print(x1, x2, x_train[i])\n",
    "        a=(x1*w1)+(x2*w2)\n",
    "        # print(\"a\", a)\n",
    "        z=sigmoid(a)\n",
    "        # print(\"z\", z)\n",
    "        y_pred=w3*z\n",
    "        dw3L=2*(y_pred-y_train[i])*z    #dl/dw3\n",
    "        dw1L=2*(y_pred-y_train[i])*(z)*(1-z)*w3\n",
    "        dw2L=dw1L*x2\n",
    "        dw1L*=x1\n",
    "\n",
    "        w3 = w3 - (lr * dw3L)\n",
    "        w2 = w2 - (lr * dw2L)\n",
    "        w1 = w1 - (lr * dw1L)\n",
    "        # print(\"w1: \", w1)\n",
    "        # print(\"w2: \", w2)\n",
    "        # print(\"w3\", w3)\n",
    "\n",
    "mse=0\n",
    "for i in range(0,10):\n",
    "    x1, x2 = x_test[i]\n",
    "    a=(x1*w1)+(x2*w2)\n",
    "    z=sigmoid(a)\n",
    "    y_pred=w3*z\n",
    "    mse+=(y_pred-y_test[i])**2\n",
    "\n",
    "mse/=10\n",
    "\n",
    "print(\"Test MSE is \", mse)\n"
   ]
  }
 ],
 "metadata": {
  "kernelspec": {
   "display_name": "venv",
   "language": "python",
   "name": "python3"
  },
  "language_info": {
   "codemirror_mode": {
    "name": "ipython",
    "version": 3
   },
   "file_extension": ".py",
   "mimetype": "text/x-python",
   "name": "python",
   "nbconvert_exporter": "python",
   "pygments_lexer": "ipython3",
   "version": "3.12.3"
  }
 },
 "nbformat": 4,
 "nbformat_minor": 5
}
