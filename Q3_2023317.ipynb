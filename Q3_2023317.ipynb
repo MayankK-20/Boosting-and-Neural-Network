{
 "cells": [
  {
   "cell_type": "code",
   "execution_count": 11,
   "id": "d9b79459",
   "metadata": {},
   "outputs": [],
   "source": [
    "import numpy as np"
   ]
  },
  {
   "cell_type": "code",
   "execution_count": 12,
   "id": "9475c96b",
   "metadata": {},
   "outputs": [
    {
     "name": "stdout",
     "output_type": "stream",
     "text": [
      "X0=[[-1.40501115 -0.4416588 ]\n",
      " [-0.37298939  1.00832811]\n",
      " [-1.28854351  1.08060065]\n",
      " [-1.20878953  0.87098425]\n",
      " [-1.54035797 -1.04622186]\n",
      " [-0.04543345 -0.94785895]\n",
      " [-0.85628513  0.23234273]\n",
      " [ 1.48662165 -2.07147965]\n",
      " [-1.00917349  0.78995653]\n",
      " [-0.61831008 -2.25348316]]\n",
      "y0=[0. 0. 0. 0. 0. 0. 0. 0. 0. 0.]\n",
      "X1=[[ 1.03178131  1.78244213]\n",
      " [-1.53455923  0.90080609]\n",
      " [ 0.66159655  2.93185008]\n",
      " [-0.32152172  0.07893366]\n",
      " [ 2.01383241  0.50394447]\n",
      " [ 1.90135571  0.77889113]\n",
      " [ 1.77349853  1.78346686]\n",
      " [ 0.32906053  1.25980153]\n",
      " [ 2.12666839 -0.11414793]\n",
      " [ 1.00060797  2.18238443]]\n",
      "y1=[1. 1. 1. 1. 1. 1. 1. 1. 1. 1.]\n",
      "\n"
     ]
    }
   ],
   "source": [
    "num_samples = 10\n",
    "mean0 = np.array([-1, -1])\n",
    "mean1 = np.array([1, 1])\n",
    "cov = np.eye(2)          # 2x2 Identity matrix\n",
    "\n",
    "X0 = np.random.multivariate_normal(mean0, cov, num_samples)\n",
    "X1 = np.random.multivariate_normal(mean1, cov, num_samples)\n",
    "y0 = np.zeros(num_samples)\n",
    "y1 = np.ones(num_samples)\n",
    "\n",
    "print(f'X0={X0}\\ny0={y0}\\nX1={X1}\\ny1={y1}\\n')"
   ]
  },
  {
   "cell_type": "code",
   "execution_count": 13,
   "id": "a5960fe3",
   "metadata": {},
   "outputs": [
    {
     "name": "stdout",
     "output_type": "stream",
     "text": [
      "x_train= [[-1.40501115 -0.4416588 ]\n",
      " [-0.37298939  1.00832811]\n",
      " [-1.28854351  1.08060065]\n",
      " [-1.20878953  0.87098425]\n",
      " [-1.54035797 -1.04622186]\n",
      " [ 1.03178131  1.78244213]\n",
      " [-1.53455923  0.90080609]\n",
      " [ 0.66159655  2.93185008]\n",
      " [-0.32152172  0.07893366]\n",
      " [ 2.01383241  0.50394447]]\n",
      "y_train= [0. 0. 0. 0. 0. 1. 1. 1. 1. 1.]\n",
      "x_test= [[-0.04543345 -0.94785895]\n",
      " [-0.85628513  0.23234273]\n",
      " [ 1.48662165 -2.07147965]\n",
      " [-1.00917349  0.78995653]\n",
      " [-0.61831008 -2.25348316]\n",
      " [ 1.90135571  0.77889113]\n",
      " [ 1.77349853  1.78346686]\n",
      " [ 0.32906053  1.25980153]\n",
      " [ 2.12666839 -0.11414793]\n",
      " [ 1.00060797  2.18238443]]\n",
      "y_test= [0. 0. 0. 0. 0. 1. 1. 1. 1. 1.]\n"
     ]
    }
   ],
   "source": [
    "#getting the train and test set\n",
    "x_train = np.vstack((X0[:5], X1[:5]))\n",
    "y_train = np.hstack((y0[:5], y1[:5]))\n",
    "x_test = np.vstack((X0[5:], X1[5:]))\n",
    "y_test = np.hstack((y0[5:], y1[5:]))\n",
    "print(\"x_train=\", x_train)\n",
    "print(\"y_train=\", y_train)\n",
    "print(\"x_test=\", x_test)\n",
    "print(\"y_test=\", y_test)"
   ]
  },
  {
   "cell_type": "code",
   "execution_count": 14,
   "id": "915cdc51",
   "metadata": {},
   "outputs": [
    {
     "name": "stdout",
     "output_type": "stream",
     "text": [
      "w1 [1.32730033]\n",
      "w2 [0.25824073]\n",
      "w3 [0.38107874]\n"
     ]
    }
   ],
   "source": [
    "# Initialize parameters randomly\n",
    "w1 = np.random.randn(1)\n",
    "w2 = np.random.randn(1)\n",
    "w3 = np.random.randn(1)\n",
    "print(\"w1\", w1)\n",
    "print(\"w2\", w2)\n",
    "print(\"w3\", w3)"
   ]
  },
  {
   "cell_type": "code",
   "execution_count": 15,
   "id": "9dcfdb7d",
   "metadata": {},
   "outputs": [
    {
     "name": "stdout",
     "output_type": "stream",
     "text": [
      "Test MSE is  0.2\n"
     ]
    }
   ],
   "source": [
    "# Sigmoid activation function\n",
    "def sigmoid(x):\n",
    "    return 1 / (1 + np.exp(-x))\n",
    "\n",
    "\n",
    "lr = 0.01\n",
    "\n",
    "for _ in range(200):\n",
    "    for i in range(0,10):\n",
    "        x1, x2=x_train[i]\n",
    "        # print(x1, x2, x_train[i])\n",
    "        a=(x1*w1)+(x2*w2)\n",
    "        # print(\"a\", a)\n",
    "        z=sigmoid(a)\n",
    "        # print(\"z\", z)\n",
    "        y_pred=w3*z\n",
    "        dw3L=2*(y_pred-y_train[i])*z    #dl/dw3\n",
    "        dw1L=2*(y_pred-y_train[i])*(z)*(1-z)*w3\n",
    "        dw2L=dw1L*x2\n",
    "        dw1L*=x1\n",
    "\n",
    "        w3 = w3 - (lr * dw3L)\n",
    "        w2 = w2 - (lr * dw2L)\n",
    "        w1 = w1 - (lr * dw1L)\n",
    "        # print(\"w1: \", w1)\n",
    "        # print(\"w2: \", w2)\n",
    "        # print(\"w3\", w3)\n",
    "\n",
    "mse=0\n",
    "for i in range(0,10):\n",
    "    x1, x2 = x_test[i]\n",
    "    a=(x1*w1)+(x2*w2)\n",
    "    z=sigmoid(a)\n",
    "    y_pred=w3*z\n",
    "    if (y_pred<0.5):\n",
    "        y_pred=0\n",
    "    else:\n",
    "        y_pred=1\n",
    "    mse+=(y_pred-y_test[i])**2\n",
    "\n",
    "mse/=10\n",
    "\n",
    "print(\"Test MSE is \", mse)\n"
   ]
  }
 ],
 "metadata": {
  "kernelspec": {
   "display_name": "venv",
   "language": "python",
   "name": "python3"
  },
  "language_info": {
   "codemirror_mode": {
    "name": "ipython",
    "version": 3
   },
   "file_extension": ".py",
   "mimetype": "text/x-python",
   "name": "python",
   "nbconvert_exporter": "python",
   "pygments_lexer": "ipython3",
   "version": "3.12.3"
  }
 },
 "nbformat": 4,
 "nbformat_minor": 5
}
