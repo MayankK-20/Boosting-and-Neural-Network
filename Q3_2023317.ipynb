{
 "cells": [
  {
   "cell_type": "code",
   "execution_count": 2,
   "id": "d9b79459",
   "metadata": {},
   "outputs": [],
   "source": [
    "import numpy as np"
   ]
  },
  {
   "cell_type": "code",
   "execution_count": 3,
   "id": "9475c96b",
   "metadata": {},
   "outputs": [
    {
     "name": "stdout",
     "output_type": "stream",
     "text": [
      "X0=[[ 0.23653675  0.07039443]\n",
      " [-1.07060103 -1.15294543]\n",
      " [-0.42722414 -1.47778933]\n",
      " [ 0.26641188 -1.8938035 ]\n",
      " [ 0.58373549  0.52035657]\n",
      " [-0.42368605 -2.03474467]\n",
      " [-2.6096112  -1.31152165]\n",
      " [-1.47083864 -0.6983168 ]\n",
      " [-1.98766244 -2.11957831]\n",
      " [-0.99392902 -1.54734912]]\n",
      "y0=[0. 0. 0. 0. 0. 0. 0. 0. 0. 0.]\n",
      "X1=[[ 1.76631673  0.10549005]\n",
      " [ 1.84543973  0.21015218]\n",
      " [ 1.28201356  0.80882576]\n",
      " [ 0.55502605 -0.78199082]\n",
      " [ 0.6727631   0.02208741]\n",
      " [-0.79864826  2.15288127]\n",
      " [-0.22257204  0.70016999]\n",
      " [ 1.77684992  0.41243351]\n",
      " [ 2.23669594  1.17353128]\n",
      " [-0.58167429 -0.06114644]]\n",
      "y1=[1. 1. 1. 1. 1. 1. 1. 1. 1. 1.]\n",
      "\n"
     ]
    }
   ],
   "source": [
    "num_samples = 10\n",
    "mean0 = np.array([-1, -1])\n",
    "mean1 = np.array([1, 1])\n",
    "cov = np.eye(2)          # 2x2 Identity matrix\n",
    "\n",
    "X0 = np.random.multivariate_normal(mean0, cov, num_samples)\n",
    "X1 = np.random.multivariate_normal(mean1, cov, num_samples)\n",
    "y0 = np.zeros(num_samples)\n",
    "y1 = np.ones(num_samples)\n",
    "\n",
    "print(f'X0={X0}\\ny0={y0}\\nX1={X1}\\ny1={y1}\\n')"
   ]
  },
  {
   "cell_type": "code",
   "execution_count": 4,
   "id": "a5960fe3",
   "metadata": {},
   "outputs": [
    {
     "name": "stdout",
     "output_type": "stream",
     "text": [
      "x_train= [[ 0.23653675  0.07039443]\n",
      " [-1.07060103 -1.15294543]\n",
      " [-0.42722414 -1.47778933]\n",
      " [ 0.26641188 -1.8938035 ]\n",
      " [ 0.58373549  0.52035657]\n",
      " [ 1.76631673  0.10549005]\n",
      " [ 1.84543973  0.21015218]\n",
      " [ 1.28201356  0.80882576]\n",
      " [ 0.55502605 -0.78199082]\n",
      " [ 0.6727631   0.02208741]]\n",
      "y_train= [0. 0. 0. 0. 0. 1. 1. 1. 1. 1.]\n",
      "x_test= [[-0.42368605 -2.03474467]\n",
      " [-2.6096112  -1.31152165]\n",
      " [-1.47083864 -0.6983168 ]\n",
      " [-1.98766244 -2.11957831]\n",
      " [-0.99392902 -1.54734912]\n",
      " [-0.79864826  2.15288127]\n",
      " [-0.22257204  0.70016999]\n",
      " [ 1.77684992  0.41243351]\n",
      " [ 2.23669594  1.17353128]\n",
      " [-0.58167429 -0.06114644]]\n",
      "y_test= [0. 0. 0. 0. 0. 1. 1. 1. 1. 1.]\n"
     ]
    }
   ],
   "source": [
    "#getting the train and test set\n",
    "x_train = np.vstack((X0[:5], X1[:5]))\n",
    "y_train = np.hstack((y0[:5], y1[:5]))\n",
    "x_test = np.vstack((X0[5:], X1[5:]))\n",
    "y_test = np.hstack((y0[5:], y1[5:]))\n",
    "print(\"x_train=\", x_train)\n",
    "print(\"y_train=\", y_train)\n",
    "print(\"x_test=\", x_test)\n",
    "print(\"y_test=\", y_test)"
   ]
  },
  {
   "cell_type": "code",
   "execution_count": 5,
   "id": "915cdc51",
   "metadata": {},
   "outputs": [
    {
     "name": "stdout",
     "output_type": "stream",
     "text": [
      "w1 [-0.64926092]\n",
      "w2 [-0.00074998]\n",
      "w3 [-0.52513386]\n"
     ]
    }
   ],
   "source": [
    "# Initialize parameters randomly\n",
    "w1 = np.random.randn(1)\n",
    "w2 = np.random.randn(1)\n",
    "w3 = np.random.randn(1)\n",
    "print(\"w1\", w1)\n",
    "print(\"w2\", w2)\n",
    "print(\"w3\", w3)"
   ]
  },
  {
   "cell_type": "code",
   "execution_count": 6,
   "id": "9dcfdb7d",
   "metadata": {},
   "outputs": [
    {
     "name": "stdout",
     "output_type": "stream",
     "text": [
      "Test MSE is  0.1\n"
     ]
    }
   ],
   "source": [
    "# Sigmoid activation function\n",
    "def sigmoid(x):\n",
    "    return 1 / (1 + np.exp(-x))\n",
    "\n",
    "\n",
    "lr = 0.01\n",
    "\n",
    "for _ in range(200):\n",
    "    for i in range(0,10):\n",
    "        x1, x2=x_train[i]\n",
    "        # print(x1, x2, x_train[i])\n",
    "        a=(x1*w1)+(x2*w2)\n",
    "        # print(\"a\", a)\n",
    "        z=sigmoid(a)\n",
    "        # print(\"z\", z)\n",
    "        y_pred=w3*z\n",
    "        dw3L=2*(y_pred-y_train[i])*z    #dl/dw3\n",
    "        dw1L=2*(y_pred-y_train[i])*(z)*(1-z)*w3\n",
    "        dw2L=dw1L*x2\n",
    "        dw1L*=x1\n",
    "\n",
    "        w3 = w3 - (lr * dw3L)\n",
    "        w2 = w2 - (lr * dw2L)\n",
    "        w1 = w1 - (lr * dw1L)\n",
    "        # print(\"w1: \", w1)\n",
    "        # print(\"w2: \", w2)\n",
    "        # print(\"w3\", w3)\n",
    "\n",
    "mse=0\n",
    "for i in range(0,10):\n",
    "    x1, x2 = x_test[i]\n",
    "    a=(x1*w1)+(x2*w2)\n",
    "    z=sigmoid(a)\n",
    "    y_pred=w3*z\n",
    "    if (y_pred<0.5):\n",
    "        y_pred=0\n",
    "    else:\n",
    "        y_pred=1\n",
    "    mse+=(y_pred-y_test[i])**2\n",
    "\n",
    "mse/=10\n",
    "\n",
    "print(\"Test MSE is \", mse)\n"
   ]
  }
 ],
 "metadata": {
  "kernelspec": {
   "display_name": "venv",
   "language": "python",
   "name": "python3"
  },
  "language_info": {
   "codemirror_mode": {
    "name": "ipython",
    "version": 3
   },
   "file_extension": ".py",
   "mimetype": "text/x-python",
   "name": "python",
   "nbconvert_exporter": "python",
   "pygments_lexer": "ipython3",
   "version": "3.12.3"
  }
 },
 "nbformat": 4,
 "nbformat_minor": 5
}
